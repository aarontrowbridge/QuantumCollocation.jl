{
 "cells": [
  {
   "cell_type": "code",
   "execution_count": 2,
   "metadata": {},
   "outputs": [],
   "source": [
    "using Revise\n",
    "using NamedTrajectories\n",
    "using QuantumCollocation\n",
    "using Symbolics\n",
    "using LinearAlgebra\n",
    "using BenchmarkTools\n",
    "using "
   ]
  },
  {
   "cell_type": "code",
   "execution_count": 3,
   "metadata": {},
   "outputs": [],
   "source": [
    "include(\"../qram_system.jl\");"
   ]
  },
  {
   "cell_type": "code",
   "execution_count": 18,
   "metadata": {},
   "outputs": [],
   "source": [
    "levels = [2, 2]\n",
    "system = QRAMSystem(qubits=1:length(levels), drives=1:length(levels), levels=levels);"
   ]
  },
  {
   "cell_type": "code",
   "execution_count": 19,
   "metadata": {},
   "outputs": [
    {
     "data": {
      "text/plain": [
       "QuantumControlProblem(Ipopt.Optimizer, MathOptInterface.VariableIndex[MOI.VariableIndex(1) MOI.VariableIndex(46) … MOI.VariableIndex(361) MOI.VariableIndex(406); MOI.VariableIndex(2) MOI.VariableIndex(47) … MOI.VariableIndex(362) MOI.VariableIndex(407); … ; MOI.VariableIndex(44) MOI.VariableIndex(89) … MOI.VariableIndex(404) MOI.VariableIndex(449); MOI.VariableIndex(45) MOI.VariableIndex(90) … MOI.VariableIndex(405) MOI.VariableIndex(450)], QuantumSystem{Float64}([0.0 0.0 0.0 0.0; 0.0 -4.233822548100004 0.34550199247188934 0.0; 0.0 0.34550199247188934 0.0 0.0; 0.0 0.0 0.0 -4.233822548100004], [0.0 0.0 0.0 0.0; 0.0 0.0 0.0 0.0; 0.0 0.0 0.0 0.0; 0.0 0.0 0.0 0.0], [[0.0 0.0 3.141592653589793 0.0; 0.0 0.0 0.0 3.141592653589793; 3.141592653589793 0.0 0.0 0.0; 0.0 3.141592653589793 0.0 0.0], [0.0 0.0 0.0 0.0; 0.0 0.0 0.0 0.0; 0.0 0.0 0.0 0.0; 0.0 0.0 0.0 0.0], [0.0 3.141592653589793 0.0 0.0; 3.141592653589793 0.0 0.0 0.0; 0.0 0.0 0.0 3.141592653589793; 0.0 0.0 3.141592653589793 0.0], [0.0 0.0 0.0 0.0; 0.0 0.0 0.0 0.0; 0.0 0.0 0.0 0.0; 0.0 0.0 0.0 0.0]], [[0.0 0.0 0.0 0.0; 0.0 0.0 0.0 0.0; 0.0 0.0 0.0 0.0; 0.0 0.0 0.0 0.0], [0.0 0.0 -3.141592653589793 0.0; 0.0 0.0 0.0 -3.141592653589793; 3.141592653589793 0.0 0.0 0.0; 0.0 3.141592653589793 0.0 0.0], [0.0 0.0 0.0 0.0; 0.0 0.0 0.0 0.0; 0.0 0.0 0.0 0.0; 0.0 0.0 0.0 0.0], [0.0 -3.141592653589793 0.0 0.0; 3.141592653589793 0.0 0.0 0.0; 0.0 0.0 0.0 -3.141592653589793; 0.0 0.0 3.141592653589793 0.0]], [0.0 0.0 … 0.0 0.0; 0.0 0.0 … 0.34550199247188934 0.0; … ; 0.0 -0.34550199247188934 … 0.0 0.0; 0.0 0.0 … 0.0 0.0], [[0.0 0.0 … 3.141592653589793 0.0; 0.0 0.0 … 0.0 3.141592653589793; … ; -3.141592653589793 0.0 … 0.0 0.0; 0.0 -3.141592653589793 … 0.0 0.0], [0.0 0.0 … 0.0 0.0; 0.0 0.0 … 0.0 0.0; … ; 0.0 0.0 … 0.0 0.0; 0.0 0.0 … 0.0 0.0], [0.0 0.0 … 0.0 0.0; 0.0 0.0 … 0.0 0.0; … ; 0.0 0.0 … 0.0 0.0; 0.0 0.0 … 0.0 0.0], [0.0 -3.141592653589793 … 0.0 0.0; 3.141592653589793 0.0 … 0.0 0.0; … ; 0.0 0.0 … 0.0 -3.141592653589793; 0.0 0.0 … 3.141592653589793 0.0]], Dict{Symbol, Any}()), NamedTrajectory{Float64}([1.0 0.969846310392954 … 0.03015368960704555 -2.526991075576986e-16; 0.0 0.0 … 0.0 0.0; … ; -0.0027932474723029446 -0.009294453291381871 … 0.002507258979560712 -0.013187243621519731; 0.2 0.2 … 0.2 0.2], [1.0, 0.0, 0.0, 0.0, 0.0, 0.0, 0.0, 0.0, 0.0, 1.0  …  0.0, -0.010152306769724452, 0.008202495440984767, -0.01280864848499701, -0.01265645840267995, -0.002072690196688613, 0.015171960012117926, -0.008161324092871961, -0.013187243621519731, 0.2], 10, :Δt, 45, (Ũ⃗ = 32, a = 4, da = 4, dda = 4, Δt = 1, states = 40, controls = 5), (a = ([-0.1, -0.1, -0.1, -0.1], [0.1, 0.1, 0.1, 0.1]), dda = ([-0.1, -0.1, -0.1, -0.1], [0.1, 0.1, 0.1, 0.1]), Δt = ([0.1], [0.30000000000000004])), (Ũ⃗ = [1.0, 0.0, 0.0, 0.0, 0.0, 0.0, 0.0, 0.0, 0.0, 1.0  …  0.0, 0.0, 0.0, 0.0, 0.0, 1.0, 0.0, 0.0, 0.0, 0.0], a = [0.0, 0.0, 0.0, 0.0]), (a = [0.0, 0.0, 0.0, 0.0],), (Ũ⃗ = [0.0, 0.0, 1.0, 0.0, 0.0, 0.0, 0.0, 0.0, 0.0, 0.0  …  0.0, 0.0, 0.0, 1.0, 0.0, 0.0, 0.0, 0.0, 0.0, 0.0],), (Ũ⃗ = 1:32, a = 33:36, da = 37:40, dda = 41:44, Δt = 45:45, states = [1, 2, 3, 4, 5, 6, 7, 8, 9, 10  …  31, 32, 33, 34, 35, 36, 37, 38, 39, 40], controls = [41, 42, 43, 44, 45]), (:Ũ⃗, :a, :da, :dda, :Δt), (:Ũ⃗, :a, :da), (:dda, :Δt)), AbstractIntegrator[UnitaryPadeIntegrator{Float64}(sparse([1, 2, 3, 4, 5, 6, 7, 8], [1, 2, 3, 4, 5, 6, 7, 8], [1.0, 1.0, 1.0, 1.0, 1.0, 1.0, 1.0, 1.0], 8, 8), [0.0 0.0 … 0.0 0.0; 0.0 0.0 … 0.34550199247188934 0.0; … ; 0.0 -0.34550199247188934 … 0.0 0.0; 0.0 0.0 … 0.0 0.0], [[0.0 0.0 … 3.141592653589793 0.0; 0.0 0.0 … 0.0 3.141592653589793; … ; -3.141592653589793 0.0 … 0.0 0.0; 0.0 -3.141592653589793 … 0.0 0.0], [0.0 0.0 … 0.0 0.0; 0.0 0.0 … 0.0 0.0; … ; 0.0 0.0 … 0.0 0.0; 0.0 0.0 … 0.0 0.0], [0.0 0.0 … 0.0 0.0; 0.0 0.0 … 0.0 0.0; … ; 0.0 0.0 … 0.0 0.0; 0.0 0.0 … 0.0 0.0], [0.0 -3.141592653589793 … 0.0 0.0; 3.141592653589793 0.0 … 0.0 0.0; … ; 0.0 0.0 … 0.0 -3.141592653589793; 0.0 0.0 … 3.141592653589793 0.0]], nothing, nothing, :Ũ⃗, :a, 4, 4, 32, 20, true, nothing), DerivativeIntegrator(:a, :da, 4), DerivativeIntegrator(:da, :dda, 4)], Options{Float64}(1.0e-8, 100.0, 10, 1.0e6, 1.0, 1.0e-6, 0.001, 1.0e-6, 15, 1.0e10, 0.01, 0.01, 1.0e-5, 1.0e8, 0.0001, 5, nothing, \"no\", \"no\", \"no\", \"text\", \"no\", \"no\", \"original\", 1, 0.0, \"no\", nothing, \"limited-memory\", \"mumps\", 10, 3), Dict{Symbol, Any}(:eval_hessian => false, :objective_terms => Dict[Dict{Symbol, Any}(:eval_hessian => true, :type => :UnitaryInfidelityObjective, :name => :Ũ⃗, :Q => 100.0, :subspace => nothing, :goal => [0.0, 0.0, 1.0, 0.0, 0.0, 0.0, 0.0, 0.0, 0.0, 0.0  …  0.0, 0.0, 0.0, 1.0, 0.0, 0.0, 0.0, 0.0, 0.0, 0.0]), Dict{Symbol, Any}(:dim => 45, :times => 1:10, :R => [0.01, 0.01, 0.01, 0.01], :eval_hessian => true, :type => :QuadraticRegularizer, :name => :a), Dict{Symbol, Any}(:dim => 45, :times => 1:10, :R => [0.01, 0.01, 0.01, 0.01], :eval_hessian => true, :type => :QuadraticRegularizer, :name => :da), Dict{Symbol, Any}(:dim => 45, :times => 1:10, :R => [0.01, 0.01, 0.01, 0.01], :eval_hessian => true, :type => :QuadraticRegularizer, :name => :dda)], :linear_constraints => LinearConstraint[EqualityConstraint([1], [1, 2, 3, 4, 5, 6, 7, 8, 9, 10  …  23, 24, 25, 26, 27, 28, 29, 30, 31, 32], [1.0, 0.0, 0.0, 0.0, 0.0, 0.0, 0.0, 0.0, 0.0, 1.0  …  0.0, 0.0, 0.0, 0.0, 0.0, 1.0, 0.0, 0.0, 0.0, 0.0], 45, \"initial value of Ũ⃗\"), EqualityConstraint([1], [33, 34, 35, 36], [0.0, 0.0, 0.0, 0.0], 45, \"initial value of a\"), EqualityConstraint([10], [33, 34, 35, 36], [0.0, 0.0, 0.0, 0.0], 45, \"final value of a\"), BoundsConstraint([2, 3, 4, 5, 6, 7, 8, 9], 33:36, [(-0.1, 0.1), (-0.1, 0.1), (-0.1, 0.1), (-0.1, 0.1)], 45, \"bounds on a\"), BoundsConstraint([1, 2, 3, 4, 5, 6, 7, 8, 9, 10], 41:44, [(-0.1, 0.1), (-0.1, 0.1), (-0.1, 0.1), (-0.1, 0.1)], 45, \"bounds on dda\"), BoundsConstraint([1, 2, 3, 4, 5, 6, 7, 8, 9, 10], 45:45, [(0.1, 0.30000000000000004)], 45, \"bounds on Δt\"), TimeStepsAllEqualConstraint([45, 90, 135, 180, 225, 270, 315, 360, 405, 450], \"time step all equal constraint\")], :options => Options{Float64}(1.0e-8, 100.0, 10, 1.0e6, 1.0, 1.0e-6, 0.001, 1.0e-6, 15, 1.0e10, 0.01, 0.01, 1.0e-5, 1.0e8, 0.0001, 5, nothing, \"no\", \"no\", \"no\", \"text\", \"no\", \"no\", \"original\", 1, 0.0, \"no\", nothing, \"limited-memory\", \"mumps\", 10, 3), :nonlinear_constraints => Any[]))"
      ]
     },
     "metadata": {},
     "output_type": "display_data"
    }
   ],
   "source": [
    "U_init, U_goal = subspace_unitary(levels, :X, 1)\n",
    "\n",
    "T = 10\n",
    "Δt = 0.2\n",
    "max_iter = 10\n",
    "\n",
    "prob = UnitarySmoothPulseProblem(\n",
    "    system,\n",
    "    U_goal,\n",
    "    T,\n",
    "    Δt;\n",
    "    pade_order=20,\n",
    "    a_bound=0.1,\n",
    "    dda_bound=0.1,\n",
    "    max_iter=max_iter,\n",
    "    hessian_approximation=true\n",
    ")"
   ]
  },
  {
   "cell_type": "code",
   "execution_count": 16,
   "metadata": {},
   "outputs": [],
   "source": [
    "solve!(prob)"
   ]
  },
  {
   "cell_type": "code",
   "execution_count": 20,
   "metadata": {},
   "outputs": [
    {
     "data": {
      "text/plain": [
       "BenchmarkTools.Trial: 37 samples with 1 evaluation.\n",
       " Range \u001b[90m(\u001b[39m\u001b[36m\u001b[1mmin\u001b[22m\u001b[39m … \u001b[35mmax\u001b[39m\u001b[90m):  \u001b[39m\u001b[36m\u001b[1m127.780 ms\u001b[22m\u001b[39m … \u001b[35m163.258 ms\u001b[39m  \u001b[90m┊\u001b[39m GC \u001b[90m(\u001b[39mmin … max\u001b[90m): \u001b[39m22.82% … 25.26%\n",
       " Time  \u001b[90m(\u001b[39m\u001b[34m\u001b[1mmedian\u001b[22m\u001b[39m\u001b[90m):     \u001b[39m\u001b[34m\u001b[1m135.147 ms               \u001b[22m\u001b[39m\u001b[90m┊\u001b[39m GC \u001b[90m(\u001b[39mmedian\u001b[90m):    \u001b[39m22.78%\n",
       " Time  \u001b[90m(\u001b[39m\u001b[32m\u001b[1mmean\u001b[22m\u001b[39m ± \u001b[32mσ\u001b[39m\u001b[90m):   \u001b[39m\u001b[32m\u001b[1m138.266 ms\u001b[22m\u001b[39m ± \u001b[32m 10.628 ms\u001b[39m  \u001b[90m┊\u001b[39m GC \u001b[90m(\u001b[39mmean ± σ\u001b[90m):  \u001b[39m23.55% ±  0.81%\n",
       "\n",
       "  \u001b[39m█\u001b[39m \u001b[39m \u001b[39m \u001b[39m \u001b[39m▂\u001b[39m \u001b[39m \u001b[39m \u001b[34m \u001b[39m\u001b[39m \u001b[39m \u001b[39m \u001b[39m \u001b[39m \u001b[39m \u001b[39m \u001b[39m \u001b[32m \u001b[39m\u001b[39m \u001b[39m \u001b[39m \u001b[39m \u001b[39m \u001b[39m \u001b[39m \u001b[39m \u001b[39m \u001b[39m \u001b[39m \u001b[39m \u001b[39m \u001b[39m \u001b[39m \u001b[39m \u001b[39m \u001b[39m \u001b[39m \u001b[39m \u001b[39m \u001b[39m \u001b[39m \u001b[39m \u001b[39m \u001b[39m \u001b[39m \u001b[39m \u001b[39m \u001b[39m \u001b[39m \u001b[39m \u001b[39m \u001b[39m \u001b[39m \u001b[39m \u001b[39m \u001b[39m \u001b[39m \u001b[39m \u001b[39m \u001b[39m \u001b[39m \u001b[39m \n",
       "  \u001b[39m█\u001b[39m█\u001b[39m█\u001b[39m█\u001b[39m▅\u001b[39m█\u001b[39m▅\u001b[39m▅\u001b[39m▁\u001b[34m▅\u001b[39m\u001b[39m▁\u001b[39m▁\u001b[39m▅\u001b[39m▅\u001b[39m█\u001b[39m▁\u001b[39m▅\u001b[39m▅\u001b[32m▁\u001b[39m\u001b[39m▅\u001b[39m▁\u001b[39m▁\u001b[39m▁\u001b[39m▁\u001b[39m▅\u001b[39m▁\u001b[39m▅\u001b[39m▅\u001b[39m▁\u001b[39m▁\u001b[39m▁\u001b[39m▁\u001b[39m▁\u001b[39m▁\u001b[39m▁\u001b[39m▅\u001b[39m▁\u001b[39m▁\u001b[39m▅\u001b[39m▅\u001b[39m▅\u001b[39m▁\u001b[39m▁\u001b[39m▁\u001b[39m▅\u001b[39m▁\u001b[39m▁\u001b[39m▁\u001b[39m▁\u001b[39m▅\u001b[39m▅\u001b[39m▁\u001b[39m▁\u001b[39m▁\u001b[39m▁\u001b[39m▁\u001b[39m▁\u001b[39m▅\u001b[39m▁\u001b[39m▁\u001b[39m▅\u001b[39m \u001b[39m▁\n",
       "  128 ms\u001b[90m           Histogram: frequency by time\u001b[39m          163 ms \u001b[0m\u001b[1m<\u001b[22m\n",
       "\n",
       " Memory estimate\u001b[90m: \u001b[39m\u001b[33m612.01 MiB\u001b[39m, allocs estimate\u001b[90m: \u001b[39m\u001b[33m1247718\u001b[39m."
      ]
     },
     "metadata": {},
     "output_type": "display_data"
    }
   ],
   "source": [
    "@benchmark solve!($prob)"
   ]
  },
  {
   "cell_type": "code",
   "execution_count": null,
   "metadata": {},
   "outputs": [],
   "source": []
  }
 ],
 "metadata": {
  "kernelspec": {
   "display_name": "Julia 1.9.2",
   "language": "julia",
   "name": "julia-1.9"
  },
  "language_info": {
   "file_extension": ".jl",
   "mimetype": "application/julia",
   "name": "julia",
   "version": "1.9.2"
  }
 },
 "nbformat": 4,
 "nbformat_minor": 2
}
